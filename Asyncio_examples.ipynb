{
 "cells": [
  {
   "cell_type": "code",
   "execution_count": null,
   "metadata": {},
   "outputs": [],
   "source": [
    "import time\n",
    "\n",
    "def sleep():\n",
    "    print(f'Time: {time.time() - start:.2f}')\n",
    "    time.sleep(2)\n",
    "\n",
    "def sum(name, numbers):\n",
    "    total = 0\n",
    "    for number in numbers:\n",
    "        print(f'Task {name}: Computing {total}+{number}')\n",
    "        sleep()\n",
    "        total += number\n",
    "    print(f'Task {name}: Sum = {total}\\n')\n",
    "\n",
    "start = time.time()\n",
    "tasks = [\n",
    "    sum(\"A\", [1, 2]),\n",
    "    sum(\"B\", [1, 2, 3]),\n",
    "]\n",
    "end = time.time()\n",
    "print(f'Time: {end-start:.2f} sec')\n"
   ]
  },
  {
   "cell_type": "code",
   "execution_count": 3,
   "metadata": {},
   "outputs": [
    {
     "name": "stdout",
     "output_type": "stream",
     "text": [
      "Task A: Computing 0+1\n",
      "Time: 0.00\n",
      "Task B: Computing 0+1\n",
      "Time: 0.00\n",
      "Task A: Computing 1+2\n",
      "Time: 2.01\n",
      "Task B: Computing 1+2\n",
      "Time: 2.01\n",
      "Task A: Sum = 3\n",
      "\n",
      "Task B: Computing 3+3\n",
      "Time: 4.02\n",
      "Task B: Sum = 6\n",
      "\n",
      "Final Time: 6.02 sec\n"
     ]
    }
   ],
   "source": [
    "import asyncio\n",
    "import time\n",
    "import nest_asyncio\n",
    "nest_asyncio.apply()\n",
    "\n",
    "\n",
    "async def sleep1():\n",
    "    print(f'Time: {time.time() - start:.2f}')\n",
    "    await asyncio.sleep(2)\n",
    "\n",
    "def sleep2():\n",
    "    print(f'Time sleep 2: {time.time() - start:.2f}')\n",
    "    time.sleep(1)\n",
    "\n",
    "async def sum(name, numbers):\n",
    "    total = 0\n",
    "\n",
    "    for number in numbers:\n",
    "        print(f'Task {name}: Computing {total}+{number}')\n",
    "        await sleep1()\n",
    "        total += number\n",
    "    print(f'Task {name}: Sum = {total}\\n')\n",
    "\n",
    "\n",
    "start = time.time()\n",
    "\n",
    "loop = asyncio.get_event_loop()\n",
    "\n",
    "tasks = [\n",
    "    loop.create_task(sum(\"A\", [1, 2])),\n",
    "    loop.create_task(sum(\"B\", [1, 2, 3]))\n",
    "        ]\n",
    "\n",
    "#loop.close()\n",
    "loop.run_until_complete(asyncio.wait(tasks))\n",
    "\n",
    "end = time.time()\n",
    "print(f'Final Time: {end-start:.2f} sec')\n"
   ]
  },
  {
   "cell_type": "code",
   "execution_count": null,
   "metadata": {},
   "outputs": [],
   "source": []
  }
 ],
 "metadata": {
  "kernelspec": {
   "display_name": "Python 3",
   "language": "python",
   "name": "python3"
  },
  "language_info": {
   "codemirror_mode": {
    "name": "ipython",
    "version": 3
   },
   "file_extension": ".py",
   "mimetype": "text/x-python",
   "name": "python",
   "nbconvert_exporter": "python",
   "pygments_lexer": "ipython3",
   "version": "3.8.10"
  },
  "orig_nbformat": 4
 },
 "nbformat": 4,
 "nbformat_minor": 2
}
