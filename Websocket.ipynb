{
 "cells": [
  {
   "cell_type": "code",
   "execution_count": 4,
   "metadata": {},
   "outputs": [
    {
     "name": "stdout",
     "output_type": "stream",
     "text": [
      "\n",
      "Connection to remote host was lost.\n"
     ]
    }
   ],
   "source": [
    "from websocket import create_connection\n",
    "import json\n",
    "\n",
    "# Copy the web brower header and input as a dictionary\n",
    "headers = json.dumps({\n",
    "    'Accept-Encoding': 'gzip, deflate, br',\n",
    "    'Accept-Language': 'en-US,en;q=0.9,ar;q=0.8',\n",
    "    'Cache-Control': 'no-cache',\n",
    "    'Connection': 'Upgrade',\n",
    "    'Host': 'ws.olymptrade.com',\n",
    "    'Origin': 'https://olymptrade.com',\n",
    "    'Pragma': 'no-cache',\n",
    "    'Sec-WebSocket-Extensions': 'permessage-deflate; client_max_window_bits',\n",
    "    'Sec-WebSocket-Key': 'j5YLojmyCdyZWBGzCLdt6g==',\n",
    "    'Sec-WebSocket-Version': '13',\n",
    "    'Upgrade': 'websocket',\n",
    "    'User-Agent': 'Mozilla/5.0 (Windows NT 10.0; Win64; x64) AppleWebKit/537.36 (KHTML, like Gecko) Chrome/113.0.0.0 Safari/537.36'\n",
    "})\n",
    "\n",
    "# Launch the connection to the server.\n",
    "ws = create_connection('wss://ws.olymptrade.com/otp',headers=headers)\n",
    "\n",
    "# Perform the handshake.\n",
    "ws.send(json.dumps({\"t\":2,\"e\":1052,\"uuid\":\"ASdBuB\",\"d\":[{\"pair\":\"MMM\"},{\"pair\":\"AMD\"},{\"pair\":\"AUDCAD\"},{\"pair\":\"AUDCHF\"},{\"pair\":\"AUDJPY\"},{\"pair\":\"AUDNZD\"},{\"pair\":\"AUDUSD\"},{\"pair\":\"BABA\"},{\"pair\":\"AMZN\"},{\"pair\":\"AAPL\"},{\"pair\":\"ASIA_X\"},{\"pair\":\"_BRN\"},{\"pair\":\"BIDU\"},{\"pair\":\"Bitcoin\"},{\"pair\":\"BA\"},{\"pair\":\"FCE\"},{\"pair\":\"CADCHF\"},{\"pair\":\"CADJPY\"},{\"pair\":\"CHFJPY\"},{\"pair\":\"CAT\"},{\"pair\":\"CVX\"},{\"pair\":\"CSCO\"},{\"pair\":\"KO\"},{\"pair\":\"CMDTY_X\"},{\"pair\":\"FDAX\"},{\"pair\":\"DIS\"},{\"pair\":\"YM\"},{\"pair\":\"BRZU\"},{\"pair\":\"QID\"},{\"pair\":\"UVXY\"},{\"pair\":\"IYR\"},{\"pair\":\"EURAUD\"},{\"pair\":\"EURCAD\"},{\"pair\":\"EURCHF\"},{\"pair\":\"EURGBP\"},{\"pair\":\"EURJPY\"},{\"pair\":\"EURNZD\"},{\"pair\":\"EURUSD\"},{\"pair\":\"FESX\"},{\"pair\":\"ETHUSD\"},{\"pair\":\"EUROPE_X\"},{\"pair\":\"XOM\"},{\"pair\":\"Z\"},{\"pair\":\"GBPAUD\"},{\"pair\":\"GBPCAD\"},{\"pair\":\"GBPCHF\"},{\"pair\":\"GBPJPY\"},{\"pair\":\"GBPNZD\"},{\"pair\":\"GBPUSD\"},{\"pair\":\"XAUUSD\"},{\"pair\":\"GS\"},{\"pair\":\"GOOGL\"},{\"pair\":\"IBM\"},{\"pair\":\"JPM\"},{\"pair\":\"JNJ\"},{\"pair\":\"LTCUSD\"},{\"pair\":\"MA\"},{\"pair\":\"MCD\"},{\"pair\":\"FB\"},{\"pair\":\"MSFT\"},{\"pair\":\"MS\"},{\"pair\":\"NQ\"},{\"pair\":\"NZDCAD\"},{\"pair\":\"NZDCHF\"},{\"pair\":\"NZDJPY\"},{\"pair\":\"NZDUSD\"},{\"pair\":\"NFLX\"},{\"pair\":\"NKE\"},{\"pair\":\"NOVN\"},{\"pair\":\"NVDA\"},{\"pair\":\"ORCL\"},{\"pair\":\"PG\"},{\"pair\":\"ES\"},{\"pair\":\"SPY\"},{\"pair\":\"XAGUSD\"},{\"pair\":\"SBUX\"},{\"pair\":\"TSLA\"},{\"pair\":\"USDCAD\"},{\"pair\":\"USDCHF\"},{\"pair\":\"USDJPY\"},{\"pair\":\"V\"},{\"pair\":\"EBAY\"}]}))\n",
    "\n",
    "# Printing all the result\n",
    "while True:\n",
    "    try:\n",
    "        result = ws.recv()\n",
    "        print(result)\n",
    "    except Exception as e:\n",
    "        print(e)\n",
    "        break"
   ]
  },
  {
   "cell_type": "code",
   "execution_count": 7,
   "metadata": {},
   "outputs": [],
   "source": [
    "import websocket\n",
    "\n",
    "# Define the WebSocket URL\n",
    "websocket_url = \"ws://localhost:8080/\"\n",
    "\n",
    "# Create a websocket client.\n",
    "ws = websocket.WebSocketApp(websocket_url)\n",
    "\n",
    "# Define callback functions for events\n",
    "def on_open(ws):\n",
    "    print(\"Connection opened\")\n",
    "\n",
    "def on_message(ws, message):\n",
    "    print(\"Received message:\", message)\n"
   ]
  },
  {
   "cell_type": "code",
   "execution_count": null,
   "metadata": {},
   "outputs": [],
   "source": []
  }
 ],
 "metadata": {
  "kernelspec": {
   "display_name": "Python 3",
   "language": "python",
   "name": "python3"
  },
  "language_info": {
   "codemirror_mode": {
    "name": "ipython",
    "version": 3
   },
   "file_extension": ".py",
   "mimetype": "text/x-python",
   "name": "python",
   "nbconvert_exporter": "python",
   "pygments_lexer": "ipython3",
   "version": "3.8.10"
  },
  "orig_nbformat": 4
 },
 "nbformat": 4,
 "nbformat_minor": 2
}
