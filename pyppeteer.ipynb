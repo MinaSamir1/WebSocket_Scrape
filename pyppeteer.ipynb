{
 "cells": [
  {
   "cell_type": "code",
   "execution_count": 1,
   "metadata": {},
   "outputs": [
    {
     "name": "stdout",
     "output_type": "stream",
     "text": [
      "Requirement already satisfied: pyppeteer in c:\\users\\mina samir\\appdata\\local\\programs\\python\\python38\\lib\\site-packages (1.0.2)"
     ]
    },
    {
     "name": "stderr",
     "output_type": "stream",
     "text": [
      "WARNING: You are using pip version 21.1.1; however, version 23.1.2 is available.\n",
      "You should consider upgrading via the 'c:\\users\\mina samir\\appdata\\local\\programs\\python\\python38\\python.exe -m pip install --upgrade pip' command.\n"
     ]
    },
    {
     "name": "stdout",
     "output_type": "stream",
     "text": [
      "\n",
      "Requirement already satisfied: websockets<11.0,>=10.0 in c:\\users\\mina samir\\appdata\\local\\programs\\python\\python38\\lib\\site-packages (from pyppeteer) (10.4)\n",
      "Requirement already satisfied: appdirs<2.0.0,>=1.4.3 in c:\\users\\mina samir\\appdata\\local\\programs\\python\\python38\\lib\\site-packages (from pyppeteer) (1.4.4)\n",
      "Requirement already satisfied: tqdm<5.0.0,>=4.42.1 in c:\\users\\mina samir\\appdata\\local\\programs\\python\\python38\\lib\\site-packages (from pyppeteer) (4.65.0)\n",
      "Requirement already satisfied: importlib-metadata>=1.4 in c:\\users\\mina samir\\appdata\\roaming\\python\\python38\\site-packages (from pyppeteer) (6.6.0)\n",
      "Requirement already satisfied: certifi>=2021 in c:\\users\\mina samir\\appdata\\local\\programs\\python\\python38\\lib\\site-packages (from pyppeteer) (2023.5.7)\n",
      "Requirement already satisfied: urllib3<2.0.0,>=1.25.8 in c:\\users\\mina samir\\appdata\\local\\programs\\python\\python38\\lib\\site-packages (from pyppeteer) (1.26.16)\n",
      "Requirement already satisfied: pyee<9.0.0,>=8.1.0 in c:\\users\\mina samir\\appdata\\local\\programs\\python\\python38\\lib\\site-packages (from pyppeteer) (8.2.2)\n",
      "Requirement already satisfied: zipp>=0.5 in c:\\users\\mina samir\\appdata\\roaming\\python\\python38\\site-packages (from importlib-metadata>=1.4->pyppeteer) (3.15.0)\n",
      "Requirement already satisfied: colorama in c:\\users\\mina samir\\appdata\\roaming\\python\\python38\\site-packages (from tqdm<5.0.0,>=4.42.1->pyppeteer) (0.4.6)\n",
      "Requirement already satisfied: nest_asyncio in c:\\users\\mina samir\\appdata\\roaming\\python\\python38\\site-packages (1.5.6)\n"
     ]
    },
    {
     "name": "stderr",
     "output_type": "stream",
     "text": [
      "WARNING: You are using pip version 21.1.1; however, version 23.1.2 is available.\n",
      "You should consider upgrading via the 'c:\\users\\mina samir\\appdata\\local\\programs\\python\\python38\\python.exe -m pip install --upgrade pip' command.\n"
     ]
    }
   ],
   "source": [
    "!pip install pyppeteer\n",
    "!pip install nest_asyncio\n",
    "import nest_asyncio\n",
    "nest_asyncio.apply()"
   ]
  },
  {
   "cell_type": "code",
   "execution_count": 3,
   "metadata": {},
   "outputs": [],
   "source": [
    "import asyncio\n",
    "from pyppeteer import launch\n",
    "\n",
    "async def main():\n",
    "    # Launch a new browser instance\n",
    "    browser = await launch()\n",
    "\n",
    "    # Create a new page\n",
    "    page = await browser.newPage()\n",
    "\n",
    "    # Navigate to Google homepage\n",
    "    await page.goto('https://www.google.com')\n",
    "\n",
    "    # Capture a screenshot\n",
    "    await page.screenshot({'path': 'google_screenshot.png'})\n",
    "\n",
    "    # Close the browser\n",
    "    await browser.close()\n",
    "\n",
    "# Create and run the event loop manually\n",
    "loop = asyncio.get_event_loop()\n",
    "loop.run_until_complete(main())\n"
   ]
  },
  {
   "cell_type": "code",
   "execution_count": null,
   "metadata": {},
   "outputs": [],
   "source": []
  }
 ],
 "metadata": {
  "kernelspec": {
   "display_name": "Python 3",
   "language": "python",
   "name": "python3"
  },
  "language_info": {
   "codemirror_mode": {
    "name": "ipython",
    "version": 3
   },
   "file_extension": ".py",
   "mimetype": "text/x-python",
   "name": "python",
   "nbconvert_exporter": "python",
   "pygments_lexer": "ipython3",
   "version": "3.8.10"
  },
  "orig_nbformat": 4
 },
 "nbformat": 4,
 "nbformat_minor": 2
}
