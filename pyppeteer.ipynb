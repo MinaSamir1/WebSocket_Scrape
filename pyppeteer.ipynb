{
 "cells": [
  {
   "cell_type": "code",
   "execution_count": 2,
   "metadata": {},
   "outputs": [
    {
     "name": "stdout",
     "output_type": "stream",
     "text": [
      "Requirement already satisfied: pyppeteer in c:\\users\\mina samir\\appdata\\local\\programs\\python\\python38\\lib\\site-packages (1.0.2)\n",
      "Requirement already satisfied: certifi>=2021 in c:\\users\\mina samir\\appdata\\local\\programs\\python\\python38\\lib\\site-packages (from pyppeteer) (2023.5.7)\n",
      "Requirement already satisfied: appdirs<2.0.0,>=1.4.3 in c:\\users\\mina samir\\appdata\\local\\programs\\python\\python38\\lib\\site-packages (from pyppeteer) (1.4.4)\n",
      "Requirement already satisfied: websockets<11.0,>=10.0 in c:\\users\\mina samir\\appdata\\local\\programs\\python\\python38\\lib\\site-packages (from pyppeteer) (10.4)\n",
      "Requirement already satisfied: importlib-metadata>=1.4 in c:\\users\\mina samir\\appdata\\roaming\\python\\python38\\site-packages (from pyppeteer) (6.6.0)\n",
      "Requirement already satisfied: tqdm<5.0.0,>=4.42.1 in c:\\users\\mina samir\\appdata\\local\\programs\\python\\python38\\lib\\site-packages (from pyppeteer) (4.65.0)\n",
      "Requirement already satisfied: urllib3<2.0.0,>=1.25.8 in c:\\users\\mina samir\\appdata\\local\\programs\\python\\python38\\lib\\site-packages (from pyppeteer) (1.26.16)\n",
      "Requirement already satisfied: pyee<9.0.0,>=8.1.0 in c:\\users\\mina samir\\appdata\\local\\programs\\python\\python38\\lib\\site-packages (from pyppeteer) (8.2.2)\n",
      "Requirement already satisfied: zipp>=0.5 in c:\\users\\mina samir\\appdata\\roaming\\python\\python38\\site-packages (from importlib-metadata>=1.4->pyppeteer) (3.15.0)\n",
      "Requirement already satisfied: colorama in c:\\users\\mina samir\\appdata\\roaming\\python\\python38\\site-packages (from tqdm<5.0.0,>=4.42.1->pyppeteer) (0.4.6)\n"
     ]
    },
    {
     "name": "stderr",
     "output_type": "stream",
     "text": [
      "WARNING: You are using pip version 21.1.1; however, version 23.1.2 is available.\n",
      "You should consider upgrading via the 'c:\\users\\mina samir\\appdata\\local\\programs\\python\\python38\\python.exe -m pip install --upgrade pip' command.\n"
     ]
    },
    {
     "name": "stdout",
     "output_type": "stream",
     "text": [
      "Requirement already satisfied: nest_asyncio in c:\\users\\mina samir\\appdata\\roaming\\python\\python38\\site-packages (1.5.6)\n"
     ]
    },
    {
     "name": "stderr",
     "output_type": "stream",
     "text": [
      "WARNING: You are using pip version 21.1.1; however, version 23.1.2 is available.\n",
      "You should consider upgrading via the 'c:\\users\\mina samir\\appdata\\local\\programs\\python\\python38\\python.exe -m pip install --upgrade pip' command.\n"
     ]
    }
   ],
   "source": [
    "!pip install pyppeteer\n",
    "!pip install nest_asyncio\n",
    "import nest_asyncio\n",
    "nest_asyncio.apply()"
   ]
  },
  {
   "cell_type": "code",
   "execution_count": 1,
   "metadata": {},
   "outputs": [
    {
     "name": "stdout",
     "output_type": "stream",
     "text": [
      "{<Task pending name='Task-3' coro=<Kernel.dispatch_queue() running at C:\\Users\\Mina Samir\\AppData\\Roaming\\Python\\Python38\\site-packages\\ipykernel\\kernelbase.py:513> cb=[IOLoop.add_future.<locals>.<lambda>() at C:\\Users\\Mina Samir\\AppData\\Roaming\\Python\\Python38\\site-packages\\tornado\\ioloop.py:685]>}\n"
     ]
    },
    {
     "ename": "RuntimeError",
     "evalue": "This event loop is already running",
     "output_type": "error",
     "traceback": [
      "\u001b[1;31m---------------------------------------------------------------------------\u001b[0m",
      "\u001b[1;31mRuntimeError\u001b[0m                              Traceback (most recent call last)",
      "Cell \u001b[1;32mIn[1], line 24\u001b[0m\n\u001b[0;32m     22\u001b[0m tasks \u001b[39m=\u001b[39m asyncio\u001b[39m.\u001b[39mall_tasks()\n\u001b[0;32m     23\u001b[0m \u001b[39mprint\u001b[39m(tasks)\n\u001b[1;32m---> 24\u001b[0m loop\u001b[39m.\u001b[39;49mrun_until_complete(main())\n",
      "File \u001b[1;32mc:\\Users\\Mina Samir\\AppData\\Local\\Programs\\Python\\Python38\\lib\\asyncio\\base_events.py:592\u001b[0m, in \u001b[0;36mBaseEventLoop.run_until_complete\u001b[1;34m(self, future)\u001b[0m\n\u001b[0;32m    581\u001b[0m \u001b[39m\u001b[39m\u001b[39m\"\"\"Run until the Future is done.\u001b[39;00m\n\u001b[0;32m    582\u001b[0m \n\u001b[0;32m    583\u001b[0m \u001b[39mIf the argument is a coroutine, it is wrapped in a Task.\u001b[39;00m\n\u001b[1;32m   (...)\u001b[0m\n\u001b[0;32m    589\u001b[0m \u001b[39mReturn the Future's result, or raise its exception.\u001b[39;00m\n\u001b[0;32m    590\u001b[0m \u001b[39m\"\"\"\u001b[39;00m\n\u001b[0;32m    591\u001b[0m \u001b[39mself\u001b[39m\u001b[39m.\u001b[39m_check_closed()\n\u001b[1;32m--> 592\u001b[0m \u001b[39mself\u001b[39;49m\u001b[39m.\u001b[39;49m_check_running()\n\u001b[0;32m    594\u001b[0m new_task \u001b[39m=\u001b[39m \u001b[39mnot\u001b[39;00m futures\u001b[39m.\u001b[39misfuture(future)\n\u001b[0;32m    595\u001b[0m future \u001b[39m=\u001b[39m tasks\u001b[39m.\u001b[39mensure_future(future, loop\u001b[39m=\u001b[39m\u001b[39mself\u001b[39m)\n",
      "File \u001b[1;32mc:\\Users\\Mina Samir\\AppData\\Local\\Programs\\Python\\Python38\\lib\\asyncio\\base_events.py:552\u001b[0m, in \u001b[0;36mBaseEventLoop._check_running\u001b[1;34m(self)\u001b[0m\n\u001b[0;32m    550\u001b[0m \u001b[39mdef\u001b[39;00m \u001b[39m_check_running\u001b[39m(\u001b[39mself\u001b[39m):\n\u001b[0;32m    551\u001b[0m     \u001b[39mif\u001b[39;00m \u001b[39mself\u001b[39m\u001b[39m.\u001b[39mis_running():\n\u001b[1;32m--> 552\u001b[0m         \u001b[39mraise\u001b[39;00m \u001b[39mRuntimeError\u001b[39;00m(\u001b[39m'\u001b[39m\u001b[39mThis event loop is already running\u001b[39m\u001b[39m'\u001b[39m)\n\u001b[0;32m    553\u001b[0m     \u001b[39mif\u001b[39;00m events\u001b[39m.\u001b[39m_get_running_loop() \u001b[39mis\u001b[39;00m \u001b[39mnot\u001b[39;00m \u001b[39mNone\u001b[39;00m:\n\u001b[0;32m    554\u001b[0m         \u001b[39mraise\u001b[39;00m \u001b[39mRuntimeError\u001b[39;00m(\n\u001b[0;32m    555\u001b[0m             \u001b[39m'\u001b[39m\u001b[39mCannot run the event loop while another loop is running\u001b[39m\u001b[39m'\u001b[39m)\n",
      "\u001b[1;31mRuntimeError\u001b[0m: This event loop is already running"
     ]
    }
   ],
   "source": [
    "import asyncio\n",
    "from pyppeteer import launch\n",
    "\n",
    "async def main():\n",
    "    # Launch a new browser instance\n",
    "    browser = await launch()\n",
    "\n",
    "    # Create a new page\n",
    "    page = await browser.newPage()\n",
    "\n",
    "    # Navigate to Google homepage\n",
    "    await page.goto('https://www.google.com')\n",
    "\n",
    "    # Capture a screenshot\n",
    "    await page.screenshot({'path': 'google_screenshot.png'})\n",
    "\n",
    "    # Close the browser\n",
    "    await browser.close()\n",
    "\n",
    "# Create and run the event loop manually\n",
    "loop = asyncio.get_event_loop()\n",
    "tasks = asyncio.all_tasks()\n",
    "print(tasks)\n",
    "loop.run_until_complete(main())"
   ]
  },
  {
   "cell_type": "code",
   "execution_count": 3,
   "metadata": {},
   "outputs": [
    {
     "name": "stdout",
     "output_type": "stream",
     "text": [
      "Task A: Computing 0+1\n",
      "Time: 0.00\n",
      "Task A: Computing 1+2\n",
      "Time: 1.01\n",
      "Task A: Sum = 3\n",
      "\n",
      "Task B: Computing 0+1\n",
      "Time: 2.03\n",
      "Task B: Computing 1+2\n",
      "Time: 3.04\n",
      "Task B: Computing 3+3\n",
      "Time: 4.05\n",
      "Task B: Sum = 6\n",
      "\n",
      "Time: 5.06 sec\n"
     ]
    }
   ],
   "source": [
    "import time\n",
    "\n",
    "def sleep():\n",
    "    print(f'Time: {time.time() - start:.2f}')\n",
    "    time.sleep(1)\n",
    "\n",
    "def sum(name, numbers):\n",
    "    total = 0\n",
    "    for number in numbers:\n",
    "        print(f'Task {name}: Computing {total}+{number}')\n",
    "        sleep()\n",
    "        total += number\n",
    "    print(f'Task {name}: Sum = {total}\\n')\n",
    "\n",
    "start = time.time()\n",
    "tasks = [\n",
    "    sum(\"A\", [1, 2]),\n",
    "    sum(\"B\", [1, 2, 3]),\n",
    "]\n",
    "end = time.time()\n",
    "print(f'Time: {end-start:.2f} sec')\n"
   ]
  },
  {
   "cell_type": "code",
   "execution_count": 6,
   "metadata": {},
   "outputs": [
    {
     "name": "stdout",
     "output_type": "stream",
     "text": [
      "Task A: Computing 0+1\n",
      "Time: 0.00\n",
      "Task B: Computing 0+1\n",
      "Time: 0.00\n",
      "Task A: Computing 1+2\n",
      "Time: 1.01\n",
      "Task B: Computing 1+2\n",
      "Time: 1.01\n",
      "Task A: Sum = 3\n",
      "\n",
      "Task B: Computing 3+3\n",
      "Time: 2.01\n",
      "Task B: Sum = 6\n",
      "\n",
      "Time: 3.03 sec\n"
     ]
    }
   ],
   "source": [
    "import asyncio\n",
    "import time\n",
    "\n",
    "async def sleep():\n",
    "    print(f'Time: {time.time() - start:.2f}')\n",
    "    await asyncio.sleep(1)\n",
    "\n",
    "async def sum(name, numbers):\n",
    "    total = 0\n",
    "    for number in numbers:\n",
    "        print(f'Task {name}: Computing {total}+{number}')\n",
    "        await sleep()\n",
    "        total += number\n",
    "    print(f'Task {name}: Sum = {total}\\n')\n",
    "\n",
    "start = time.time()\n",
    "\n",
    "loop = asyncio.get_event_loop()\n",
    "tasks = [\n",
    "    loop.create_task(sum(\"A\", [1, 2])),\n",
    "    loop.create_task(sum(\"B\", [1, 2, 3])),\n",
    "]\n",
    "loop.run_until_complete(asyncio.wait(tasks))\n",
    "#loop.close()\n",
    "\n",
    "end = time.time()\n",
    "print(f'Time: {end-start:.2f} sec')\n"
   ]
  },
  {
   "cell_type": "code",
   "execution_count": 9,
   "metadata": {},
   "outputs": [
    {
     "data": {
      "text/plain": [
       "1"
      ]
     },
     "execution_count": 9,
     "metadata": {},
     "output_type": "execute_result"
    }
   ],
   "source": [
    "tasks = asyncio.all_tasks()\n",
    "\n",
    "len(tasks)\n"
   ]
  },
  {
   "cell_type": "code",
   "execution_count": null,
   "metadata": {},
   "outputs": [],
   "source": []
  }
 ],
 "metadata": {
  "kernelspec": {
   "display_name": "Python 3",
   "language": "python",
   "name": "python3"
  },
  "language_info": {
   "codemirror_mode": {
    "name": "ipython",
    "version": 3
   },
   "file_extension": ".py",
   "mimetype": "text/x-python",
   "name": "python",
   "nbconvert_exporter": "python",
   "pygments_lexer": "ipython3",
   "version": "3.8.10"
  },
  "orig_nbformat": 4
 },
 "nbformat": 4,
 "nbformat_minor": 2
}
