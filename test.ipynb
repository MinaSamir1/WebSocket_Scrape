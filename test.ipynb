{
 "cells": [
  {
   "cell_type": "code",
   "execution_count": 1,
   "metadata": {},
   "outputs": [],
   "source": [
    "from selenium import webdriver\n",
    "from selenium.webdriver.chrome.options import Options\n",
    "from webdriver_manager.chrome import ChromeDriverManager\n",
    "\n",
    "# Set the path to the profile directory\n",
    "profile_directory = r\"C:\\Users\\Mina Samir\\AppData\\Local\\Google\\Chrome\\User Data\"\n",
    "\n",
    "# Create ChromeOptions object and add the profile directory argument\n",
    "chrome_options = Options()\n",
    "chrome_options.add_argument(f'--user-data-dir={profile_directory}')\n",
    "\n",
    "# Launch Chrome with the specified profile\n",
    "driver = webdriver.Chrome(options=chrome_options)\n",
    "\n",
    "driver.get('https://olymptrade.com/platform')"
   ]
  },
  {
   "cell_type": "code",
   "execution_count": 2,
   "metadata": {},
   "outputs": [
    {
     "data": {
      "text/plain": [
       "56"
      ]
     },
     "execution_count": 2,
     "metadata": {},
     "output_type": "execute_result"
    }
   ],
   "source": [
    "scripts = driver.execute_script(\"return document.scripts\")\n",
    "\n",
    "len(scripts)"
   ]
  },
  {
   "cell_type": "code",
   "execution_count": 3,
   "metadata": {},
   "outputs": [
    {
     "name": "stdout",
     "output_type": "stream",
     "text": [
      "0 https://connect.facebook.net/en_US/sdk.js?hash=80efd7aa6c886f8a27a2c69102700a4e\n",
      "1 https://analytics.tiktok.com/i18n/pixel/static/main.MWI2MzlmMWJmMA.js\n",
      "2 https://tr.snapchat.com/config/com/6f652967-68c0-4b51-856e-73764e7ec56a.js\n",
      "3 https://snap.licdn.com/li.lms-analytics/insight.min.js\n",
      "4 https://api.eu1.exponea.com/js/exponea.min.js\n",
      "5 https://s1.kwai.net/kos/s101/nlav11187/pixel/events.js?sdkid=414260076515165032&lib=kwaiq\n",
      "6 https://analytics.tiktok.com/i18n/pixel/events.js?sdkid=CAAANOBC77U1BL87MPLG&lib=ttq\n",
      "7 https://sc-static.net/scevent.min.js\n",
      "8 https://www.googletagmanager.com/gtag/js?id=G-SN8XZNJ2M7&l=dataLayer&cx=c\n",
      "9 https://www.google-analytics.com/analytics.js\n",
      "10 https://www.googletagmanager.com/gtm.js?id=GTM-M98VLD\n",
      "11 https://static.ads-twitter.com/uwt.js\n",
      "12 https://connect.facebook.net/signals/config/1030052410533603?v=2.9.104&r=stable\n",
      "13 https://connect.facebook.net/signals/plugins/identity.js?v=2.9.104\n",
      "14 https://connect.facebook.net/en_US/fbevents.js\n",
      "15 https://js.hsadspixel.net/fb.js\n",
      "16 https://js.hs-banner.com/v2/6691243/banner.js\n",
      "17 https://js.hs-analytics.net/analytics/1685002800000/6691243.js\n",
      "18 \n",
      "19 \n",
      "20 https://cfcdn.olymptrade.com/v5/public/js/runtime.platform.6bee3d24.js\n",
      "21 https://cfcdn.olymptrade.com/v5/public/js/react.5cb43e5a.js\n",
      "22 https://cfcdn.olymptrade.com/v5/public/js/mobx.0e562eb3.js\n",
      "23 https://cfcdn.olymptrade.com/v5/public/js/legacy.dc4608d8.js\n",
      "24 https://cfcdn.olymptrade.com/v5/public/js/5778.e746fbb1.js\n",
      "25 https://cfcdn.olymptrade.com/v5/public/js/8354.eaf9569a.js\n",
      "26 https://cfcdn.olymptrade.com/v5/public/js/778.4ba4c551.js\n",
      "27 https://cfcdn.olymptrade.com/v5/public/js/2525.b2821d2a.js\n",
      "28 https://cfcdn.olymptrade.com/v5/public/js/3990.b061a6f6.js\n",
      "29 https://cfcdn.olymptrade.com/v5/public/js/5510.b64aad5d.js\n",
      "30 https://cfcdn.olymptrade.com/v5/public/js/3279.b46717c7.js\n",
      "31 https://cfcdn.olymptrade.com/v5/public/js/5886.2d8a2118.js\n",
      "32 https://cfcdn.olymptrade.com/v5/public/js/1449.bbae7848.js\n",
      "33 https://cfcdn.olymptrade.com/v5/public/js/9469.708359f8.js\n",
      "34 https://cfcdn.olymptrade.com/v5/public/js/platform.56acdffd.js\n",
      "35 https://cfcdn.olymptrade.com/1.1.19112/assets/js/stayIosInStandaloneMode.js\n",
      "36 https://tpc.googlesyndication.com/sodar/1s9mPOHO.js\n",
      "37 https://analytics.tiktok.com/i18n/pixel/static/identify_738b3.js\n",
      "38 https://cfcdn.olymptrade.com/chart/1.0.15981/remote/remoteEntry.js\n",
      "39 https://js.hs-scripts.com/6691243.js\n",
      "40 \n",
      "41 \n",
      "42 \n",
      "43 \n",
      "44 \n",
      "45 \n",
      "46 \n",
      "47 \n",
      "48 \n",
      "49 \n",
      "50 \n",
      "51 https://appleid.cdn-apple.com/appleauth/static/jsapi/appleid/1/en_US/appleid.auth.js\n",
      "52 https://connect.facebook.net/en_US/sdk.js\n",
      "53 https://accounts.google.com/gsi/client\n",
      "54 https://googleads.g.doubleclick.net/pagead/viewthroughconversion/852038782/?random=1685002874380&cv=11&fst=1685002874380&bg=ffffff&guid=ON&async=1&gtm=45He35m0&u_w=1536&u_h=864&url=https%3A%2F%2Folymptrade.com%2Fplatform&hn=www.googleadservices.com&frm=0&tiba=Olymp%20Trade%20%E2%80%94%20%D9%85%D9%86%D8%B5%D8%A9%20%D8%A7%D9%84%D8%AA%D8%AF%D8%A7%D9%88%D9%84&auid=1731679636.1682062533&uaa=x86&uab=64&uafvl=Google%2520Chrome%3B113.0.5672.127%7CChromium%3B113.0.5672.127%7CNot-A.Brand%3B24.0.0.0&uamb=0&uap=Windows&uapv=10.0.0&uaw=0&rfmt=3&fmt=4\n",
      "55 https://www.googleadservices.com/pagead/conversion/852038782/?random=1685002874384&cv=11&fst=1685002874384&bg=ffffff&guid=ON&async=1&gtm=45He35m0&u_w=1536&u_h=864&url=https%3A%2F%2Folymptrade.com%2Fplatform&label=vkCWCKbV5dMBEP6opJYD&hn=www.googleadservices.com&frm=0&tiba=Olymp%20Trade%20%E2%80%94%20%D9%85%D9%86%D8%B5%D8%A9%20%D8%A7%D9%84%D8%AA%D8%AF%D8%A7%D9%88%D9%84&value=0&bttype=purchase&gclaw=CjwKCAjw0ZiiBhBKEiwA4PT9z9-3NV2Q5LjrLhFvxJLWMOk5hDZ3fJoLXfvE69_U-xeLqfHRcAjzOhoCAw8QAvD_BwE&gac=UA-54693962-1%3ACjwKCAjw0ZiiBhBKEiwA4PT9z9-3NV2Q5LjrLhFvxJLWMOk5hDZ3fJoLXfvE69_U-xeLqfHRcAjzOhoCAw8QAvD_BwE&auid=1731679636.1682062533&uaa=x86&uab=64&uafvl=Google%2520Chrome%3B113.0.5672.127%7CChromium%3B113.0.5672.127%7CNot-A.Brand%3B24.0.0.0&uamb=0&uap=Windows&uapv=10.0.0&uaw=0&rfmt=3&fmt=4\n"
     ]
    }
   ],
   "source": [
    "for num, script in enumerate(scripts):\n",
    "    src = script.get_attribute('src')\n",
    "    print(num, src)\n"
   ]
  },
  {
   "cell_type": "code",
   "execution_count": 11,
   "metadata": {},
   "outputs": [
    {
     "name": "stdout",
     "output_type": "stream",
     "text": [
      "EUR/USD Price: 1.07296\n",
      "EUR/USD Price: 1.073\n"
     ]
    }
   ],
   "source": [
    "import yfinance as yf\n",
    "\n",
    "def scrape_eur_usd_price():\n",
    "    # Create a ticker object for the EUR/USD pair\n",
    "    ticker = yf.Ticker(\"EURUSD=X\")\n",
    "    \n",
    "    # Get the historical data for the pair\n",
    "    historical_data = ticker.history(period=\"1d\")\n",
    "    \n",
    "    # Retrieve the latest closing price\n",
    "    latest_price = historical_data[\"Close\"].iloc[-1]\n",
    "    \n",
    "    return latest_price\n",
    "\n",
    "# Call the function to scrape the EUR/USD price\n",
    "eur_usd_price = scrape_eur_usd_price()\n",
    "print(\"EUR/USD Price:\", round(eur_usd_price, 5))\n",
    "\n",
    "\n",
    "import requests\n",
    "\n",
    "def get_eur_usd_price():\n",
    "    url = \"https://query1.finance.yahoo.com/v8/finance/chart/EURUSD=X\"\n",
    "    headers = {\n",
    "        \"User-Agent\": \"Mozilla/5.0 (Windows NT 10.0; Win64; x64) AppleWebKit/537.36 (KHTML, like Gecko) Chrome/58.0.3029.110 Safari/537.3\"\n",
    "    }\n",
    "    \n",
    "    response = requests.get(url, headers=headers)\n",
    "    data = response.json()\n",
    "\n",
    "    # Extracting the latest price from the response\n",
    "    price = data[\"chart\"][\"result\"][0][\"meta\"][\"regularMarketPrice\"]\n",
    "    \n",
    "    return price\n",
    "\n",
    "# Call the function to get the EUR/USD price\n",
    "eur_usd_price = get_eur_usd_price()\n",
    "print(\"EUR/USD Price:\", eur_usd_price)\n"
   ]
  },
  {
   "cell_type": "code",
   "execution_count": 34,
   "metadata": {},
   "outputs": [
    {
     "name": "stdout",
     "output_type": "stream",
     "text": [
      "1426\n",
      "EUR/USD Price: Datetime\n",
      "2023-05-24 00:00:00+01:00    1.077586\n",
      "2023-05-24 00:01:00+01:00    1.077702\n",
      "2023-05-24 00:02:00+01:00    1.077586\n",
      "2023-05-24 00:03:00+01:00    1.077586\n",
      "2023-05-24 00:04:00+01:00    1.077586\n",
      "                               ...   \n",
      "2023-05-24 23:54:00+01:00    1.075963\n",
      "2023-05-24 23:55:00+01:00    1.075963\n",
      "2023-05-24 23:56:00+01:00    1.075963\n",
      "2023-05-24 23:57:00+01:00    1.075847\n",
      "2023-05-24 23:58:00+01:00    1.075847\n",
      "Name: Close, Length: 1426, dtype: float64\n"
     ]
    }
   ],
   "source": [
    "import yfinance as yf\n",
    "\n",
    "def scrape_eur_usd_price():\n",
    "    # Create a ticker object for the EUR/USD pair\n",
    "    ticker = yf.Ticker(\"EURUSD=X\")\n",
    "    \n",
    "    # Get the historical data for the pair\n",
    "    historical_data = ticker.history(start='2023-05-24',end='2023-05-25' ,interval='1m')\n",
    "    \n",
    "    # Retrieve the latest closing price\n",
    "    latest_price = historical_data[\"Close\"]\n",
    "    \n",
    "    return latest_price\n",
    "\n",
    "# Call the function to scrape the EUR/USD price\n",
    "eur_usd_price = scrape_eur_usd_price()\n",
    "print(len(eur_usd_price))\n",
    "print(\"EUR/USD Price:\", eur_usd_price)\n"
   ]
  },
  {
   "cell_type": "code",
   "execution_count": null,
   "metadata": {},
   "outputs": [],
   "source": []
  }
 ],
 "metadata": {
  "kernelspec": {
   "display_name": "Python 3",
   "language": "python",
   "name": "python3"
  },
  "language_info": {
   "codemirror_mode": {
    "name": "ipython",
    "version": 3
   },
   "file_extension": ".py",
   "mimetype": "text/x-python",
   "name": "python",
   "nbconvert_exporter": "python",
   "pygments_lexer": "ipython3",
   "version": "3.8.10"
  },
  "orig_nbformat": 4
 },
 "nbformat": 4,
 "nbformat_minor": 2
}
